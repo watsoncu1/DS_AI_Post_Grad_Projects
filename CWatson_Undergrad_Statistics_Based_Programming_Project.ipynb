{
  "cells": [
    {
      "cell_type": "markdown",
      "metadata": {
        "id": "view-in-github",
        "colab_type": "text"
      },
      "source": [
        "<a href=\"https://colab.research.google.com/github/watsoncu1/DS_AI_Post_Grad_Projects/blob/main/CWatson_Undergrad_Statistics_Based_Programming_Project.ipynb\" target=\"_parent\"><img src=\"https://colab.research.google.com/assets/colab-badge.svg\" alt=\"Open In Colab\"/></a>"
      ]
    },
    {
      "cell_type": "markdown",
      "metadata": {
        "id": "uNrqbMLalyl6"
      },
      "source": [
        "### Overview\n",
        "\n",
        "This program, crafted by Curtis Watson for the \"Practical Programming with Python\" course at the College of Southern Maryland, is designed to provide a comprehensive analysis of a list of integers. By calculating statistical measures such as the minimum, maximum, mean, median, mode, and assessing whether the list forms a palindrome, this project serves as a robust application of Python programming to solve real-world problems. Curtis achieved a perfect score of 100% for this project, underlining the project's adherence to high standards of accuracy and efficiency.\n",
        "\n",
        "### Program Required Specifications\n",
        "\n",
        "The objective of this program is to perform detailed statistical analysis on a list of integers input by the user. This analysis includes:\n",
        "\n",
        "- Determining the minimum and maximum values.\n",
        "- Calculating the mean (average) of the list.\n",
        "- Checking if the list is a palindrome (the sequence is the same forwards and backwards).\n",
        "- Identifying the median value.\n",
        "- Finding the mode (the most frequently occurring number).\n",
        "\n",
        "This project emphasizes incremental development, with each step building upon the previous one to enhance understanding and effectiveness.\n",
        "\n",
        "### Implementation Steps\n",
        "\n",
        "1. **Input Handling**: Capture a list of integers from standard input.\n",
        "2. **Minimum and Maximum**: Calculate and display the lowest and highest values in the list.\n",
        "3. **Mean Calculation**: Compute the average of the list values to one decimal place.\n",
        "4. **Palindrome Verification**: Assess whether the list is identical from both ends, indicating a palindrome.\n",
        "5. **Median Identification**: After sorting the list, determine the median value, accounting for both even and odd lengths of the list.\n",
        "6. **Mode Determination**: Identify the most frequently occurring value in the list, assuming a single mode exists.\n"
      ]
    },
    {
      "cell_type": "code",
      "execution_count": null,
      "metadata": {
        "id": "Sylc5tYDlyl8",
        "outputId": "d15b0adc-6c1b-4309-c829-05a51887e600"
      },
      "outputs": [
        {
          "name": "stdout",
          "output_type": "stream",
          "text": [
            "Enter a list of integers separated by space:\n",
            "Minimum: 1\n",
            "Maximum: 6\n",
            "Mean: 3.1\n",
            "Median: 3.0\n",
            "Mode: 2\n",
            "Palindrome: false\n"
          ]
        }
      ],
      "source": [
        "from collections import Counter\n",
        "\n",
        "def get_input_list():\n",
        "    print(\"Enter a list of integers separated by space:\")\n",
        "    while True:\n",
        "        input_str = input()\n",
        "        try:\n",
        "            nums = [int(n) for n in input_str.split()]\n",
        "            return nums\n",
        "        except ValueError:\n",
        "            print(\"Invalid input. Please ensure you enter integers separated by spaces.\")\n",
        "\n",
        "def calculate_statistics(nums):\n",
        "    min_value = min(nums)\n",
        "    max_value = max(nums)\n",
        "    mean_value = sum(nums) / len(nums)\n",
        "    is_palindrome = \"true\" if nums == nums[::-1] else \"false\"\n",
        "\n",
        "    nums.sort()\n",
        "    if len(nums) % 2 == 0:\n",
        "        median_value = (nums[len(nums)//2 - 1] + nums[len(nums)//2]) / 2\n",
        "    else:\n",
        "        median_value = nums[len(nums)//2]\n",
        "\n",
        "    counter = Counter(nums)\n",
        "    mode_value, _ = counter.most_common(1)[0]\n",
        "\n",
        "    return min_value, max_value, mean_value, median_value, mode_value, is_palindrome\n",
        "\n",
        "def display_results(min_value, max_value, mean_value, median_value, mode_value, is_palindrome):\n",
        "    print(f\"Minimum: {min_value}\")\n",
        "    print(f\"Maximum: {max_value}\")\n",
        "    print(f\"Mean: {mean_value:.1f}\")\n",
        "    print(f\"Median: {median_value:.1f}\")\n",
        "    print(f\"Mode: {mode_value}\")\n",
        "    print(f\"Palindrome: {is_palindrome}\")\n",
        "\n",
        "def main():\n",
        "    nums = get_input_list()\n",
        "    statistics = calculate_statistics(nums)\n",
        "    display_results(*statistics)\n",
        "\n",
        "if __name__ == \"__main__\":\n",
        "    main()\n",
        "\n",
        "\n"
      ]
    },
    {
      "cell_type": "markdown",
      "metadata": {
        "id": "U4PkJZkBlyl9"
      },
      "source": [
        "### Python Code Enhancement\n",
        "\n",
        "The Python code provided below includes several improvements for an enhanced user experience:\n",
        "\n",
        "- Error handling for non-integer inputs.\n",
        "- Clear instructions and feedback to the user.\n",
        "- Improved readability and maintainability.\n",
        "\n",
        "\n",
        "##### This code begins by prompting the user for a list of integers, ensuring the input is valid before proceeding. It then calculates each statistical measure, sorting the list only when necessary to maintain the original order for palindrome checking. Finally, it neatly displays the results, providing a comprehensive overview of the list's statistical properties."
      ]
    }
  ],
  "metadata": {
    "kernelspec": {
      "display_name": "base",
      "language": "python",
      "name": "python3"
    },
    "language_info": {
      "codemirror_mode": {
        "name": "ipython",
        "version": 3
      },
      "file_extension": ".py",
      "mimetype": "text/x-python",
      "name": "python",
      "nbconvert_exporter": "python",
      "pygments_lexer": "ipython3",
      "version": "3.11.8"
    },
    "colab": {
      "provenance": [],
      "include_colab_link": true
    }
  },
  "nbformat": 4,
  "nbformat_minor": 0
}