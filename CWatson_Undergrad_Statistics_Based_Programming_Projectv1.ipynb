{
  "cells": [
    {
      "cell_type": "markdown",
      "metadata": {
        "id": "view-in-github",
        "colab_type": "text"
      },
      "source": [
        "<a href=\"https://colab.research.google.com/github/watsoncu1/DS_AI_Post_Grad_Projects/blob/main/CWatson_Undergrad_Statistics_Based_Programming_Projectv1.ipynb\" target=\"_parent\"><img src=\"https://colab.research.google.com/assets/colab-badge.svg\" alt=\"Open In Colab\"/></a>"
      ]
    },
    {
      "cell_type": "markdown",
      "metadata": {
        "id": "uNrqbMLalyl6"
      },
      "source": [
        "# **Overview Statistics-Based Project: Min., Max., Mean, Median, Mode, and Palindrome**\n",
        "\n",
        "This program, crafted by Curtis Watson for the \"Practical Programming with Python\" course at the College of Southern Maryland, is designed to provide a comprehensive analysis of a list of integers. By calculating statistical measures such as the minimum, maximum, mean, median, mode, and assessing whether the list forms a palindrome, this project serves as a robust application of Python programming to solve real-world problems. Curtis achieved a perfect score of 100% for this project, underlining the project's adherence to high standards of accuracy and efficiency.\n",
        "\n",
        "### **Program Required Specifications**\n",
        "\n",
        "The objective of this program is to perform detailed statistical analysis on a list of integers input by the user. This analysis includes:\n",
        "\n",
        "- Determining the minimum and maximum values.\n",
        "- Calculating the mean (average) of the list.\n",
        "- Checking if the list is a palindrome (the sequence is the same forwards and backwards).\n",
        "- Identifying the median value.\n",
        "- Finding the mode (the most frequently occurring number).\n",
        "\n",
        "This project emphasizes incremental development, with each step building upon the previous one to enhance understanding and effectiveness.\n",
        "\n",
        "### **Key Implementation Steps:**\n",
        "\n",
        "1. **Input Handling:** A user-friendly interface prompts users to input a list of integers, fortified with robust error handling mechanisms.\n",
        "\n",
        "2. **Minimum and Maximum Calculation:** Utilizing Python's native functions, the program accurately computes and presents the lowest and highest values within the list.\n",
        "\n",
        "3. **Mean Calculation:** Harnessing Python's arithmetic prowess, the program derives the list's average to a singular decimal point.\n",
        "\n",
        "4. **Palindrome Verification:** Intricate logic validates whether the list forms a palindrome, adding a touch of symmetry analysis to the mix.\n",
        "\n",
        "5. **Median Identification:** Employing sorting techniques, the program determines the median value, adeptly catering to both even and odd-length lists.\n",
        "\n",
        "6. **Mode Determination:** Leveraging Python libraries, the program identifies the most prevalent number within the list, ensuring accuracy in statistical inference."
      ]
    },
    {
      "cell_type": "code",
      "execution_count": null,
      "metadata": {
        "id": "Sylc5tYDlyl8",
        "outputId": "d15b0adc-6c1b-4309-c829-05a51887e600"
      },
      "outputs": [
        {
          "name": "stdout",
          "output_type": "stream",
          "text": [
            "Enter a list of integers separated by space:\n",
            "Minimum: 1\n",
            "Maximum: 6\n",
            "Mean: 3.1\n",
            "Median: 3.0\n",
            "Mode: 2\n",
            "Palindrome: false\n"
          ]
        }
      ],
      "source": [
        "from collections import Counter\n",
        "\n",
        "def get_input_list():\n",
        "    print(\"Enter a list of integers separated by space:\")\n",
        "    while True:\n",
        "        input_str = input()\n",
        "        try:\n",
        "            nums = [int(n) for n in input_str.split()]\n",
        "            return nums\n",
        "        except ValueError:\n",
        "            print(\"Invalid input. Please ensure you enter integers separated by spaces.\")\n",
        "\n",
        "def calculate_statistics(nums):\n",
        "    min_value = min(nums)\n",
        "    max_value = max(nums)\n",
        "    mean_value = sum(nums) / len(nums)\n",
        "    is_palindrome = \"true\" if nums == nums[::-1] else \"false\"\n",
        "\n",
        "    nums.sort()\n",
        "    if len(nums) % 2 == 0:\n",
        "        median_value = (nums[len(nums)//2 - 1] + nums[len(nums)//2]) / 2\n",
        "    else:\n",
        "        median_value = nums[len(nums)//2]\n",
        "\n",
        "    counter = Counter(nums)\n",
        "    mode_value, _ = counter.most_common(1)[0]\n",
        "\n",
        "    return min_value, max_value, mean_value, median_value, mode_value, is_palindrome\n",
        "\n",
        "def display_results(min_value, max_value, mean_value, median_value, mode_value, is_palindrome):\n",
        "    print(f\"Minimum: {min_value}\")\n",
        "    print(f\"Maximum: {max_value}\")\n",
        "    print(f\"Mean: {mean_value:.1f}\")\n",
        "    print(f\"Median: {median_value:.1f}\")\n",
        "    print(f\"Mode: {mode_value}\")\n",
        "    print(f\"Palindrome: {is_palindrome}\")\n",
        "\n",
        "def main():\n",
        "    nums = get_input_list()\n",
        "    statistics = calculate_statistics(nums)\n",
        "    display_results(*statistics)\n",
        "\n",
        "if __name__ == \"__main__\":\n",
        "    main()\n",
        "\n",
        "\n"
      ]
    },
    {
      "cell_type": "markdown",
      "metadata": {
        "id": "U4PkJZkBlyl9"
      },
      "source": [
        "## **Python Code Refinement:**\n",
        "\n",
        "### **Elevating the user experience, the provided Python code undergoes several enhancements, including:**\n",
        "\n",
        "- Robust error handling mechanisms gracefully tackling non-integer inputs.\n",
        "- Clear and concise instructions coupled with informative feedback loops.\n",
        "- Enhanced readability and maintainability for seamless comprehension and future modifications.\n",
        "\n",
        "#### In conclusion, this project not only exemplifies the fusion of statistical acumen and Python programming prowess but also serves as a testament to Curtis Watson's exemplary skill set and dedication to excellence.\"\n",
        "\n"
      ]
    }
  ],
  "metadata": {
    "kernelspec": {
      "display_name": "base",
      "language": "python",
      "name": "python3"
    },
    "language_info": {
      "codemirror_mode": {
        "name": "ipython",
        "version": 3
      },
      "file_extension": ".py",
      "mimetype": "text/x-python",
      "name": "python",
      "nbconvert_exporter": "python",
      "pygments_lexer": "ipython3",
      "version": "3.11.8"
    },
    "colab": {
      "provenance": [],
      "include_colab_link": true
    }
  },
  "nbformat": 4,
  "nbformat_minor": 0
}