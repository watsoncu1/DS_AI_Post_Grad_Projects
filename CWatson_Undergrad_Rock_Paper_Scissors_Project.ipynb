{
  "cells": [
    {
      "cell_type": "markdown",
      "metadata": {
        "id": "view-in-github",
        "colab_type": "text"
      },
      "source": [
        "<a href=\"https://colab.research.google.com/github/watsoncu1/DS_AI_Post_Grad_Projects/blob/main/CWatson_Undergrad_Rock_Paper_Scissors_Project.ipynb\" target=\"_parent\"><img src=\"https://colab.research.google.com/assets/colab-badge.svg\" alt=\"Open In Colab\"/></a>"
      ]
    },
    {
      "cell_type": "markdown",
      "metadata": {
        "id": "ZZs2KfgBfNpQ"
      },
      "source": [
        "# Overview: Rock, Paper, Scissors Logic-Based Programming Project\n",
        "\n",
        "## Introduction\n",
        "\n",
        "The Rock, Paper, Scissors Logic-Based Programming Project is a Python-coded assignment, meticulously designed by Curtis Watson. It was developed as a key component of the \"Practical Programming with Python\" course, an integral part of the curriculum for the Associate of Science Degree in Data Science at the College of Southern Maryland. This project is a testament to the practical application of programming concepts in creating engaging, logic-driven software solutions.\n",
        "\n",
        "**Noteworthy Achievement:** Curtis Watson excelled in this project, securing a perfect score of 100%. This grade reflects the project's adherence to the specified requirements and its successful implementation.\n",
        "\n",
        "## Project Description\n",
        "\n",
        "The project's core objective is to simulate an automated version of the classic game Rock, Paper, Scissors. In this game, two players simultaneously choose one of three possible hand signals: rock, paper, or scissors. The game follows a simple logic: rock crushes scissors, scissors cut paper, and paper covers rock. Matches result in either a win for one player or a tie, should both players choose the same signal. The randomness inherent in the players' choices is replicated through the use of a random number generator, which assigns values of 0, 1, or 2 to represent the three hand signals.\n",
        "\n",
        "## Program Specifications\n",
        "\n",
        "The programming challenge is structured to encourage incremental development, ensuring learners can progressively build upon their understanding and implementation skills. Each phase of the project is designed to introduce new elements, requiring students to apply logic and programming concepts to navigate from one step to the next successfully.\n",
        "\n",
        "### Development Phases\n",
        "\n",
        "- **Step 0:** Initialize the game environment. This includes setting up constants for ROCK, PAPER, and SCISSORS, and initializing the random number generator with a seed value to ensure reproducible outcomes during testing.\n",
        "- **Step 1:** Implement user input functionality for capturing player names and the desired number of game rounds, with input validation to ensure the number of rounds is greater than zero.\n",
        "- **Step 2:** Leverage `random.randint(0, 2)` to generate random choices for both players, introducing a loop to rerun the selection process in the event of a tie, thereby ensuring each round results in a clear outcome.\n",
        "- **Step 3:** Apply the game's rules to determine the winner of each round based on the choices made by the players, incorporating conditional statements to reflect the game's logic.\n",
        "- **Step 4:** Incorporate a loop mechanism to facilitate multiple rounds of play, culminating in a summary of the results that highlights the total wins of each player.\n",
        "\n",
        "This comprehensive approach to the project not only underscores the significance of logic in programming but also highlights the importance of structured, incremental development in mastering software development skills."
      ]
    },
    {
      "cell_type": "code",
      "execution_count": null,
      "metadata": {
        "id": "wwL0c19cfNpR",
        "outputId": "9709f8ea-705d-48b4-db0e-912f2145eb12"
      },
      "outputs": [
        {
          "name": "stdout",
          "output_type": "stream",
          "text": [
            "Rock, Paper, Scissors Game\n",
            "\n",
            "\n",
            "Curtis vs Elisa for 3 rounds\n",
            "\n",
            "Round 1\n",
            "Curtis chooses Rock\n",
            "Elisa chooses Scissors\n",
            "Curtis wins this round!\n",
            "\n",
            "Round 2\n",
            "Curtis chooses Rock\n",
            "Elisa chooses Paper\n",
            "Elisa wins this round!\n",
            "\n",
            "Round 3\n",
            "Curtis chooses Rock\n",
            "Elisa chooses Paper\n",
            "Elisa wins this round!\n",
            "\n",
            "Final Score: Curtis 1, Elisa 2\n",
            "Elisa wins the game!\n"
          ]
        }
      ],
      "source": [
        "import random\n",
        "\n",
        "def get_valid_input(prompt, invalid_prompt=\"Invalid input. Please try again.\", condition=lambda x: True):\n",
        "    \"\"\"Prompt the user for input and validate it with the given condition.\"\"\"\n",
        "    while True:\n",
        "        try:\n",
        "            value = input(prompt)\n",
        "            if condition(value):\n",
        "                return value\n",
        "            else:\n",
        "                print(invalid_prompt)\n",
        "        except ValueError:\n",
        "            print(invalid_prompt)\n",
        "\n",
        "def main():\n",
        "    print(\"Rock, Paper, Scissors Game\\n\")\n",
        "\n",
        "    # Set the random seed for reproducibility in testing scenarios\n",
        "    seed = int(get_valid_input(\"Enter random seed: \", condition=lambda x: x.isdigit()))\n",
        "    random.seed(seed)\n",
        "\n",
        "    # Get player names and ensure the number of rounds is a positive integer\n",
        "    player1_name = get_valid_input(\"Enter Player 1's name: \")\n",
        "    player2_name = get_valid_input(\"Enter Player 2's name: \")\n",
        "    rounds = int(get_valid_input(\"Enter the number of rounds: \", condition=lambda x: x.isdigit() and int(x) > 0))\n",
        "\n",
        "    print(f\"\\n{player1_name} vs {player2_name} for {rounds} rounds\")\n",
        "\n",
        "    # Initialize win counts\n",
        "    player1_wins = 0\n",
        "    player2_wins = 0\n",
        "\n",
        "    # Constants for easier understanding of the hand signals\n",
        "    signals = [\"Rock\", \"Paper\", \"Scissors\"]\n",
        "    rules = {\n",
        "        0: 2,  # Rock beats Scissors\n",
        "        1: 0,  # Paper beats Rock\n",
        "        2: 1   # Scissors beats Paper\n",
        "    }\n",
        "\n",
        "    for round_number in range(1, rounds + 1):\n",
        "        print(f\"\\nRound {round_number}\")\n",
        "        player1_signal, player2_signal = random.randint(0, 2), random.randint(0, 2)\n",
        "\n",
        "        # Display tie messages if signals are the same\n",
        "        while player1_signal == player2_signal:\n",
        "            print(\"Tie! Both players chose the same signal. Re-rolling...\")\n",
        "            player1_signal, player2_signal = random.randint(0, 2), random.randint(0, 2)\n",
        "\n",
        "        print(f\"{player1_name} chooses {signals[player1_signal]}\")\n",
        "        print(f\"{player2_name} chooses {signals[player2_signal]}\")\n",
        "\n",
        "        # Determine and announce the winner of the round\n",
        "        if rules[player1_signal] == player2_signal:\n",
        "            print(f\"{player1_name} wins this round!\")\n",
        "            player1_wins += 1\n",
        "        else:\n",
        "            print(f\"{player2_name} wins this round!\")\n",
        "            player2_wins += 1\n",
        "\n",
        "    # Announce the overall winner or declare a tie\n",
        "    print(f\"\\nFinal Score: {player1_name} {player1_wins}, {player2_name} {player2_wins}\")\n",
        "    if player1_wins > player2_wins:\n",
        "        print(f\"{player1_name} wins the game!\")\n",
        "    elif player2_wins > player1_wins:\n",
        "        print(f\"{player2_name} wins the game!\")\n",
        "    else:\n",
        "        print(\"The game ends in a tie!\")\n",
        "\n",
        "if __name__ == \"__main__\":\n",
        "    main()\n"
      ]
    },
    {
      "cell_type": "markdown",
      "metadata": {
        "id": "nXBu9o6lfNpT"
      },
      "source": [
        "### Final Code and User Experience Enhancements Above the Requirements:\n",
        "#### * User Input Validation: Functions are now used to ensure that user inputs are valid, making the game more robust and user-friendly.\n",
        "#### * Clear Round Announcements: The game now announces each round and the choices made by each player, improving the transparency and engagement of the game.\n",
        "#### * Rule Clarification: The logic determining the winner of each round has been clarified through the use of a rules dictionary, making the code more readable and maintainable.\n",
        "#### * Final Score Announcement: A clear announcement of the final score and the overall winner (or a tie declaration) concludes the game, providing a satisfying closure to the players."
      ]
    }
  ],
  "metadata": {
    "kernelspec": {
      "display_name": "base",
      "language": "python",
      "name": "python3"
    },
    "language_info": {
      "codemirror_mode": {
        "name": "ipython",
        "version": 3
      },
      "file_extension": ".py",
      "mimetype": "text/x-python",
      "name": "python",
      "nbconvert_exporter": "python",
      "pygments_lexer": "ipython3",
      "version": "3.11.8"
    },
    "colab": {
      "provenance": [],
      "include_colab_link": true
    }
  },
  "nbformat": 4,
  "nbformat_minor": 0
}